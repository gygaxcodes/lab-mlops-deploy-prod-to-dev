{
 "cells": [
  {
   "cell_type": "markdown",
   "metadata": {},
   "source": [
    "# MLFlow demo\n",
    "\n",
    "Start by watching this <3 min explanation\n",
    "https://www.youtube.com/watch?v=8SfZ1ElgpdU"
   ]
  },
  {
   "cell_type": "code",
   "execution_count": 1,
   "metadata": {
    "ExecuteTime": {
     "end_time": "2023-06-12T12:44:25.108262Z",
     "start_time": "2023-06-12T12:44:25.040673Z"
    }
   },
   "outputs": [
    {
     "data": {
      "text/plain": [
       "<Experiment: artifact_location='/Users/joaorochaemelo/code/IH/aieng/ai-engineering-bootcamp/course/week4_update/day1/mlruns/1', creation_time=1723567415967, experiment_id='1', last_update_time=1723567415967, lifecycle_stage='active', name='nyc-taxi-experiment_xgboost', tags={}>"
      ]
     },
     "execution_count": 1,
     "metadata": {},
     "output_type": "execute_result"
    }
   ],
   "source": [
    "import xgboost as xgb\n",
    "import pandas as pd\n",
    "from hyperopt import fmin, tpe, hp, STATUS_OK, Trials\n",
    "from hyperopt.pyll import scope\n",
    "from sklearn.feature_extraction import DictVectorizer\n",
    "\n",
    "from sklearn.metrics import mean_squared_error\n",
    "import pickle\n",
    "import mlflow\n",
    "\n",
    "mlflow.set_tracking_uri(\"sqlite:///mlflow.db\")\n",
    "mlflow.set_experiment(\"nyc-taxi-experiment_xgboost\")"
   ]
  },
  {
   "cell_type": "code",
   "execution_count": 2,
   "metadata": {
    "ExecuteTime": {
     "end_time": "2023-06-12T12:44:25.114857Z",
     "start_time": "2023-06-12T12:44:25.112946Z"
    }
   },
   "outputs": [],
   "source": [
    "# Preprocessing Data\n",
    "# function to read the data and remove outliers\n",
    "def read_dataframe(filename):\n",
    "    df = pd.read_parquet(filename)\n",
    "\n",
    "    df.lpep_dropoff_datetime = pd.to_datetime(df.lpep_dropoff_datetime)\n",
    "    df.lpep_pickup_datetime = pd.to_datetime(df.lpep_pickup_datetime)\n",
    "\n",
    "    df['duration'] = df.lpep_dropoff_datetime - df.lpep_pickup_datetime\n",
    "    df.duration = df.duration.apply(lambda td: td.total_seconds() / 60)\n",
    "\n",
    "    df = df[(df.duration >= 1) & (df.duration <= 60)]\n",
    "\n",
    "    categorical = ['PULocationID', 'DOLocationID']\n",
    "    df[categorical] = df[categorical].astype(str)\n",
    "\n",
    "    return df"
   ]
  },
  {
   "cell_type": "code",
   "execution_count": 3,
   "metadata": {
    "ExecuteTime": {
     "end_time": "2023-06-12T12:44:26.620611Z",
     "start_time": "2023-06-12T12:44:25.130208Z"
    }
   },
   "outputs": [],
   "source": [
    "# preprocessing functions for train, validation dataset\n",
    "df_train = read_dataframe('./data/green_tripdata_2021-01.parquet')\n",
    "df_val = read_dataframe('./data/green_tripdata_2021-02.parquet')\n",
    "\n",
    "df_train['PU_DO'] = df_train['PULocationID'] + '_' + df_train['DOLocationID']\n",
    "df_val['PU_DO'] = df_val['PULocationID'] + '_' + df_val['DOLocationID']\n",
    "\n",
    "categorical = ['PU_DO'] #'PULocationID', 'DOLocationID']\n",
    "numerical = ['trip_distance']\n",
    "\n",
    "dv = DictVectorizer()\n",
    "\n",
    "train_dicts = df_train[categorical + numerical].to_dict(orient='records')\n",
    "X_train = dv.fit_transform(train_dicts)\n",
    "\n",
    "val_dicts = df_val[categorical + numerical].to_dict(orient='records')\n",
    "X_val = dv.transform(val_dicts)\n",
    "target = 'duration'\n",
    "y_train = df_train[target].values\n",
    "y_val = df_val[target].values\n"
   ]
  },
  {
   "cell_type": "markdown",
   "metadata": {},
   "source": [
    "### Train XGBOOST and track experiment with hyperparameter tunning manually"
   ]
  },
  {
   "cell_type": "code",
   "execution_count": 4,
   "metadata": {},
   "outputs": [],
   "source": [
    "# change dataset format to DMatrix as per XGBOOST required format\n",
    "train = xgb.DMatrix(X_train, label=y_train)\n",
    "valid = xgb.DMatrix(X_val, label=y_val)"
   ]
  },
  {
   "cell_type": "code",
   "execution_count": 5,
   "metadata": {
    "ExecuteTime": {
     "end_time": "2023-06-12T12:44:26.626515Z",
     "start_time": "2023-06-12T12:44:26.620290Z"
    }
   },
   "outputs": [],
   "source": [
    "# define objective function to use in hyperopt method fmin\n",
    "def objective(params):\n",
    "    with mlflow.start_run():\n",
    "        mlflow.set_tag(\"model\", \"xgboost\")\n",
    "        mlflow.log_params(params)\n",
    "        model = xgb.train(\n",
    "            params=params,\n",
    "            dtrain=train,\n",
    "            num_boost_round=10,\n",
    "            evals=[(valid, 'validation')],\n",
    "            early_stopping_rounds=3\n",
    "        )\n",
    "        y_pred = model.predict(valid)\n",
    "        rmse = mean_squared_error(y_val, y_pred, squared=False)\n",
    "        mlflow.log_metric(\"rmse\", rmse)\n",
    "\n",
    "    return {'loss': rmse, 'status': STATUS_OK}"
   ]
  },
  {
   "cell_type": "code",
   "execution_count": 6,
   "metadata": {
    "ExecuteTime": {
     "end_time": "2023-06-12T12:44:27.877893Z",
     "start_time": "2023-06-12T12:44:26.633777Z"
    }
   },
   "outputs": [
    {
     "name": "stdout",
     "output_type": "stream",
     "text": [
      "[0]\tvalidation-rmse:9.81468                          \n",
      "  0%|          | 0/5 [00:00<?, ?trial/s, best loss=?]"
     ]
    },
    {
     "name": "stderr",
     "output_type": "stream",
     "text": [
      "/Users/joaorochaemelo/code/IH/venv_ironhack/lib/python3.11/site-packages/xgboost/core.py:160: UserWarning: [17:48:04] WARNING: /Users/runner/work/xgboost/xgboost/src/objective/regression_obj.cu:209: reg:linear is now deprecated in favor of reg:squarederror.\n",
      "  warnings.warn(smsg, UserWarning)\n",
      "\n"
     ]
    },
    {
     "name": "stdout",
     "output_type": "stream",
     "text": [
      "[1]\tvalidation-rmse:8.42658                          \n",
      "[2]\tvalidation-rmse:7.66657                          \n",
      "[3]\tvalidation-rmse:7.25799                          \n",
      "[4]\tvalidation-rmse:7.03999                          \n",
      "[5]\tvalidation-rmse:6.91874                          \n",
      "[6]\tvalidation-rmse:6.84895                          \n",
      "[7]\tvalidation-rmse:6.80680                          \n",
      "[8]\tvalidation-rmse:6.78031                          \n",
      "[9]\tvalidation-rmse:6.76482                          \n",
      "[0]\tvalidation-rmse:6.88375                                                   \n",
      " 20%|██        | 1/5 [00:01<00:04,  1.15s/trial, best loss: 6.764823500929617]"
     ]
    },
    {
     "name": "stderr",
     "output_type": "stream",
     "text": [
      "/Users/joaorochaemelo/code/IH/venv_ironhack/lib/python3.11/site-packages/sklearn/metrics/_regression.py:492: FutureWarning: 'squared' is deprecated in version 1.4 and will be removed in 1.6. To calculate the root mean squared error, use the function'root_mean_squared_error'.\n",
      "  warnings.warn(\n",
      "\n",
      "/Users/joaorochaemelo/code/IH/venv_ironhack/lib/python3.11/site-packages/xgboost/core.py:160: UserWarning: [17:48:05] WARNING: /Users/runner/work/xgboost/xgboost/src/objective/regression_obj.cu:209: reg:linear is now deprecated in favor of reg:squarederror.\n",
      "  warnings.warn(smsg, UserWarning)\n",
      "\n"
     ]
    },
    {
     "name": "stdout",
     "output_type": "stream",
     "text": [
      "[1]\tvalidation-rmse:6.77237                                                   \n",
      "[2]\tvalidation-rmse:6.75758                                                   \n",
      "[3]\tvalidation-rmse:6.74955                                                   \n",
      "[4]\tvalidation-rmse:6.73661                                                   \n",
      "[5]\tvalidation-rmse:6.73029                                                   \n",
      "[6]\tvalidation-rmse:6.72266                                                   \n",
      "[7]\tvalidation-rmse:6.71618                                                   \n",
      "[8]\tvalidation-rmse:6.71461                                                   \n",
      "[9]\tvalidation-rmse:6.71157                                                   \n",
      "[0]\tvalidation-rmse:11.46938                                                  \n",
      " 40%|████      | 2/5 [00:02<00:03,  1.16s/trial, best loss: 6.711565763334313]"
     ]
    },
    {
     "name": "stderr",
     "output_type": "stream",
     "text": [
      "/Users/joaorochaemelo/code/IH/venv_ironhack/lib/python3.11/site-packages/sklearn/metrics/_regression.py:492: FutureWarning: 'squared' is deprecated in version 1.4 and will be removed in 1.6. To calculate the root mean squared error, use the function'root_mean_squared_error'.\n",
      "  warnings.warn(\n",
      "\n",
      "/Users/joaorochaemelo/code/IH/venv_ironhack/lib/python3.11/site-packages/xgboost/core.py:160: UserWarning: [17:48:06] WARNING: /Users/runner/work/xgboost/xgboost/src/objective/regression_obj.cu:209: reg:linear is now deprecated in favor of reg:squarederror.\n",
      "  warnings.warn(smsg, UserWarning)\n",
      "\n"
     ]
    },
    {
     "name": "stdout",
     "output_type": "stream",
     "text": [
      "[1]\tvalidation-rmse:10.81845                                                  \n",
      "[2]\tvalidation-rmse:10.25052                                                  \n",
      "[3]\tvalidation-rmse:9.75654                                                   \n",
      "[4]\tvalidation-rmse:9.32897                                                   \n",
      "[5]\tvalidation-rmse:8.96065                                                   \n",
      "[6]\tvalidation-rmse:8.64351                                                   \n",
      "[7]\tvalidation-rmse:8.37163                                                   \n",
      "[8]\tvalidation-rmse:8.13885                                                   \n",
      "[9]\tvalidation-rmse:7.93964                                                   \n",
      " 60%|██████    | 3/5 [00:03<00:02,  1.06s/trial, best loss: 6.711565763334313]"
     ]
    },
    {
     "name": "stderr",
     "output_type": "stream",
     "text": [
      "/Users/joaorochaemelo/code/IH/venv_ironhack/lib/python3.11/site-packages/sklearn/metrics/_regression.py:492: FutureWarning: 'squared' is deprecated in version 1.4 and will be removed in 1.6. To calculate the root mean squared error, use the function'root_mean_squared_error'.\n",
      "  warnings.warn(\n",
      "\n",
      "/Users/joaorochaemelo/code/IH/venv_ironhack/lib/python3.11/site-packages/xgboost/core.py:160: UserWarning: [17:48:07] WARNING: /Users/runner/work/xgboost/xgboost/src/objective/regression_obj.cu:209: reg:linear is now deprecated in favor of reg:squarederror.\n",
      "  warnings.warn(smsg, UserWarning)\n",
      "\n"
     ]
    },
    {
     "name": "stdout",
     "output_type": "stream",
     "text": [
      "[0]\tvalidation-rmse:7.08905                                                   \n",
      "[1]\tvalidation-rmse:6.75192                                                   \n",
      "[2]\tvalidation-rmse:6.71175                                                   \n",
      "[3]\tvalidation-rmse:6.70304                                                   \n",
      "[4]\tvalidation-rmse:6.69340                                                   \n",
      "[5]\tvalidation-rmse:6.68293                                                   \n",
      "[6]\tvalidation-rmse:6.67896                                                   \n",
      "[7]\tvalidation-rmse:6.67413                                                   \n",
      "[8]\tvalidation-rmse:6.66800                                                   \n",
      "[9]\tvalidation-rmse:6.66068                                                   \n",
      " 80%|████████  | 4/5 [00:04<00:01,  1.08s/trial, best loss: 6.660680704413644]"
     ]
    },
    {
     "name": "stderr",
     "output_type": "stream",
     "text": [
      "/Users/joaorochaemelo/code/IH/venv_ironhack/lib/python3.11/site-packages/sklearn/metrics/_regression.py:492: FutureWarning: 'squared' is deprecated in version 1.4 and will be removed in 1.6. To calculate the root mean squared error, use the function'root_mean_squared_error'.\n",
      "  warnings.warn(\n",
      "\n",
      "/Users/joaorochaemelo/code/IH/venv_ironhack/lib/python3.11/site-packages/xgboost/core.py:160: UserWarning: [17:48:08] WARNING: /Users/runner/work/xgboost/xgboost/src/objective/regression_obj.cu:209: reg:linear is now deprecated in favor of reg:squarederror.\n",
      "  warnings.warn(smsg, UserWarning)\n",
      "\n"
     ]
    },
    {
     "name": "stdout",
     "output_type": "stream",
     "text": [
      "[0]\tvalidation-rmse:9.84549                                                   \n",
      "[1]\tvalidation-rmse:8.45270                                                   \n",
      "[2]\tvalidation-rmse:7.66632                                                   \n",
      "[3]\tvalidation-rmse:7.23607                                                   \n",
      "[4]\tvalidation-rmse:6.99691                                                   \n",
      "[5]\tvalidation-rmse:6.86398                                                   \n",
      "[6]\tvalidation-rmse:6.78835                                                   \n",
      "[7]\tvalidation-rmse:6.74265                                                   \n",
      "[8]\tvalidation-rmse:6.71447                                                   \n",
      "[9]\tvalidation-rmse:6.69216                                                   \n",
      "100%|██████████| 5/5 [00:06<00:00,  1.23s/trial, best loss: 6.660680704413644]\n"
     ]
    },
    {
     "name": "stderr",
     "output_type": "stream",
     "text": [
      "/Users/joaorochaemelo/code/IH/venv_ironhack/lib/python3.11/site-packages/sklearn/metrics/_regression.py:492: FutureWarning: 'squared' is deprecated in version 1.4 and will be removed in 1.6. To calculate the root mean squared error, use the function'root_mean_squared_error'.\n",
      "  warnings.warn(\n",
      "\n"
     ]
    }
   ],
   "source": [
    "# hyper parameter tunning and logging information from each iteration to mlflow\n",
    "search_space = {\n",
    "    'max_depth': scope.int(hp.quniform('max_depth', 4, 10, 1)),\n",
    "    'learning_rate': hp.loguniform('learning_rate', -3, 0),\n",
    "    'reg_alpha': hp.loguniform('reg_alpha', -5, -1),\n",
    "    'reg_lambda': hp.loguniform('reg_lambda', -6, -1),\n",
    "    'min_child_weight': hp.loguniform('min_child_weight', -1, 3),\n",
    "    'objective': 'reg:linear',\n",
    "    'seed': 42\n",
    "}\n",
    "\n",
    "best_result = fmin(\n",
    "    fn=objective,\n",
    "    space=search_space,\n",
    "    algo=tpe.suggest,\n",
    "    max_evals=5,\n",
    "    trials=Trials()\n",
    ")"
   ]
  },
  {
   "cell_type": "markdown",
   "metadata": {},
   "source": [
    "### Train XGBOOST and track using mlflow autolog\n"
   ]
  },
  {
   "cell_type": "code",
   "execution_count": 7,
   "metadata": {
    "ExecuteTime": {
     "end_time": "2023-06-12T12:44:27.881027Z",
     "start_time": "2023-06-12T12:44:27.878910Z"
    }
   },
   "outputs": [],
   "source": [
    "mlflow.xgboost.autolog(disable=True)\n"
   ]
  },
  {
   "cell_type": "code",
   "execution_count": null,
   "metadata": {},
   "outputs": [],
   "source": []
  }
 ],
 "metadata": {
  "kernelspec": {
   "display_name": "Python 3 (ipykernel)",
   "language": "python",
   "name": "python3"
  },
  "language_info": {
   "codemirror_mode": {
    "name": "ipython",
    "version": 3
   },
   "file_extension": ".py",
   "mimetype": "text/x-python",
   "name": "python",
   "nbconvert_exporter": "python",
   "pygments_lexer": "ipython3",
   "version": "3.11.9"
  }
 },
 "nbformat": 4,
 "nbformat_minor": 4
}
